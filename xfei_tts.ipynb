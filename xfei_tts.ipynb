{
 "cells": [
  {
   "cell_type": "code",
   "execution_count": 1,
   "metadata": {},
   "outputs": [],
   "source": [
    "import re\n",
    "import base64\n",
    "import json\n",
    "import time\n",
    "import hashlib\n",
    "import urllib.request\n",
    "import urllib.parse\n",
    "import json\n"
   ]
  },
  {
   "cell_type": "markdown",
   "metadata": {},
   "source": [
    "## 分割长字符串\n",
    "\n",
    "想用讯飞tts念长文章, webapi有长度限制, 所以要把一段字符串切分成多个, 切分时如果切断了英文单词或者中文词, 听起来就会很别扭. 所以, 将一个字符串分成若干子串, 子串的末尾以标点符号或者空格结尾(数字中小数点除外), 每个子串的长度是不超过L的最大值\n",
    "\n",
    "思路:\n",
    "\n",
    "@gttnnn:\n",
    "我当年在s60v2上因为类似的原因做了类似的事情，好像是txt大于10k还是多少讯飞那个app就打开超级慢。我是拿大文件整个读出来切出L那么一块，然后rfind找到最后一个句号。没有用正则是怕手机性能不够，没敢用😅\n",
    "\n",
    "所以:\n",
    "写个generator, 从当前位置开始, 切除L个字, 然后在这段里找到最后一个标点位置, 把子串发出, 再把起始位置定在最后一个标点位置"
   ]
  },
  {
   "cell_type": "code",
   "execution_count": 2,
   "metadata": {},
   "outputs": [],
   "source": [
    "if __name__==\"__main__\":\n",
    "    text=\"这一段话里面有数字2.34也有常规的英文标点. 但我不想把数字给切分开, ,,，,,, 应该怎么做呢?\""
   ]
  },
  {
   "cell_type": "code",
   "execution_count": 3,
   "metadata": {},
   "outputs": [],
   "source": [
    "def cut_string(text, Lmax):\n",
    "    punc=\"([\\s\\S]{3,\" +str(Lmax)+ \"}[,. ，。\\n|(?!.\\d+)|(?!,\\d+)])\"\n",
    "    return iter(re.findall(punc,text))"
   ]
  },
  {
   "cell_type": "code",
   "execution_count": 4,
   "metadata": {},
   "outputs": [
    {
     "name": "stdout",
     "output_type": "stream",
     "text": [
      "这一段话里面有数字2.34\n",
      "也有常规的英文标点. \n",
      "但我不想把数字给切分开, ,,，,,, \n",
      "应该怎么做呢?\n"
     ]
    }
   ],
   "source": [
    "if __name__==\"__main__\":\n",
    "    for sub_t in cut_string(text, 20):\n",
    "        print(sub_t)\n",
    "    "
   ]
  },
  {
   "cell_type": "markdown",
   "metadata": {},
   "source": [
    "# 讯飞tts"
   ]
  },
  {
   "cell_type": "markdown",
   "metadata": {},
   "source": [
    "按照讯飞的要求, 分别配置设置的字符串, http请求的head和body"
   ]
  },
  {
   "cell_type": "code",
   "execution_count": 5,
   "metadata": {},
   "outputs": [],
   "source": [
    "def init_xf_tts():\n",
    "    with open('API_setup.txt') as json_file:  \n",
    "        api = json.load(json_file)\n",
    "    # 构造输出音频配置参数\n",
    "    Param = {\n",
    "        \"auf\": \"audio/L16;rate=16000\",    #音频采样率\n",
    "        \"aue\": \"lame\",    #音频编码，raw(生成wav)或lame(生成mp3)\n",
    "        \"voice_name\": \"aisjiuxu\",\n",
    "        \"speed\": \"50\",    #语速[0,100]\n",
    "        \"volume\": \"77\",    #音量[0,100]\n",
    "        \"pitch\": \"30\",    #音高[0,100]\n",
    "        \"engine_type\": \"aisound\"    #引擎类型。aisound（普通效果），intp65（中文），intp65_en（英文）\n",
    "    }\n",
    "    Lmax=20\n",
    "    xf_tts=(Param, api,Lmax)\n",
    "    return xf_tts"
   ]
  },
  {
   "cell_type": "code",
   "execution_count": 6,
   "metadata": {},
   "outputs": [],
   "source": [
    "def construct_base64_str(Param):\n",
    "    # 配置参数编码为base64字符串，过程：字典→明文字符串→utf8编码→base64(bytes)→base64字符串\n",
    "    Param_str = json.dumps(Param)    #得到明文字符串\n",
    "    Param_utf8 = Param_str.encode('utf8')    #得到utf8编码(bytes类型)\n",
    "    Param_b64 = base64.b64encode(Param_utf8)    #得到base64编码(bytes类型)\n",
    "    Param_b64str = Param_b64.decode('utf8')    #得到base64字符串\n",
    "    return Param_b64str\n",
    "\n",
    "def construct_header(api, Param_b64str):\n",
    "    # 构造HTTP请求的头部\n",
    "    time_now = str(int(time.time()))\n",
    "    checksum = (api[\"key\"] + time_now + Param_b64str).encode('utf8')\n",
    "    checksum_md5 = hashlib.md5(checksum).hexdigest()\n",
    "    header = {\n",
    "        \"X-Appid\": api[\"id\"],\n",
    "        \"X-CurTime\": time_now,\n",
    "        \"X-Param\": Param_b64str,\n",
    "        \"X-CheckSum\": checksum_md5\n",
    "    }\n",
    "    return header\n",
    "\n",
    "def construct_urlencode_utf8(t):\n",
    "    # 构造HTTP请求Body\n",
    "    body = {\n",
    "        \"text\": t\n",
    "    }\n",
    "    body_urlencode = urllib.parse.urlencode(body)\n",
    "    body_utf8 = body_urlencode.encode('utf8')\n",
    "    return body_utf8\n"
   ]
  },
  {
   "cell_type": "markdown",
   "metadata": {},
   "source": [
    "短句tts"
   ]
  },
  {
   "cell_type": "code",
   "execution_count": 7,
   "metadata": {},
   "outputs": [],
   "source": [
    "def short_tts(TEXT, xf_tts):\n",
    "    Param, api, Lmax=xf_tts\n",
    "    # 发送HTTP POST请求\n",
    "    req = urllib.request.Request(\n",
    "        api[\"url\"], \n",
    "        data=construct_urlencode_utf8(TEXT), \n",
    "        headers=construct_header(api, construct_base64_str(Param)))\n",
    "    response = urllib.request.urlopen(req)\n",
    "    return response.read()"
   ]
  },
  {
   "cell_type": "markdown",
   "metadata": {},
   "source": [
    "长句tts"
   ]
  },
  {
   "cell_type": "code",
   "execution_count": 8,
   "metadata": {},
   "outputs": [],
   "source": [
    "def long_tts(TEXT, xf_tts):\n",
    "    Param, api, Lmax=xf_tts\n",
    "    data=b''\n",
    "    for sub_text in cut_string(TEXT, Lmax):\n",
    "        data+=short_tts(sub_text, xf_tts)\n",
    "    return data\n",
    "\n",
    "def xf_save_tts(xf_tts, TEXT, filename):\n",
    "    data=long_tts(TEXT, xf_tts)\n",
    "    with open(filename, 'wb') as f:\n",
    "        f.write(data)\n",
    "    "
   ]
  },
  {
   "cell_type": "code",
   "execution_count": 9,
   "metadata": {},
   "outputs": [
    {
     "name": "stdout",
     "output_type": "stream",
     "text": [
      "({'pitch': '30', 'engine_type': 'aisound', 'volume': '77', 'voice_name': 'aisjiuxu', 'speed': '50', 'aue': 'lame', 'auf': 'audio/L16;rate=16000'}, {'id': '5c81fe5a', 'url': 'http://api.xfyun.cn/v1/service/v1/tts', 'key': '3c4c15fad5a2894f95e2e4d9f6ad3c77'}, 20)\n"
     ]
    }
   ],
   "source": [
    "if __name__==\"__main__\":\n",
    "    text=\"这一段话里面有数字2.34也有常规的英文标点. 但我不想把数字给切分开, ,,，,,, 应该怎么做呢?\"\n",
    "    xf_tts=init_xf_tts()\n",
    "    print(xf_tts)\n",
    "    xf_save_tts(xf_tts, text, \"tts_test.mp3\")"
   ]
  },
  {
   "cell_type": "code",
   "execution_count": null,
   "metadata": {},
   "outputs": [],
   "source": []
  }
 ],
 "metadata": {
  "kernelspec": {
   "display_name": "Python 3",
   "language": "python",
   "name": "python3"
  },
  "language_info": {
   "codemirror_mode": {
    "name": "ipython",
    "version": 3
   },
   "file_extension": ".py",
   "mimetype": "text/x-python",
   "name": "python",
   "nbconvert_exporter": "python",
   "pygments_lexer": "ipython3",
   "version": "3.5.6"
  }
 },
 "nbformat": 4,
 "nbformat_minor": 2
}
