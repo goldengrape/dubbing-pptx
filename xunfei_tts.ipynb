{
 "cells": [
  {
   "cell_type": "code",
   "execution_count": 1,
   "metadata": {},
   "outputs": [],
   "source": [
    "import re\n",
    "import base64\n",
    "import json\n",
    "import time\n",
    "import hashlib\n",
    "import urllib.request\n",
    "import urllib.parse\n",
    "import json\n",
    "import subprocess\n",
    "import os\n"
   ]
  },
  {
   "cell_type": "code",
   "execution_count": null,
   "metadata": {},
   "outputs": [],
   "source": []
  },
  {
   "cell_type": "markdown",
   "metadata": {},
   "source": [
    "## 分割长字符串\n",
    "\n",
    "想用讯飞tts念长文章, webapi有长度限制, 所以要把一段字符串切分成多个, 切分时如果切断了英文单词或者中文词, 听起来就会很别扭. 所以, 将一个字符串分成若干子串, 子串的末尾以标点符号或者空格结尾(数字中小数点除外), 每个子串的长度是不超过L的最大值\n",
    "\n",
    "思路:\n",
    "\n",
    "@gttnnn:\n",
    "我当年在s60v2上因为类似的原因做了类似的事情，好像是txt大于10k还是多少讯飞那个app就打开超级慢。我是拿大文件整个读出来切出L那么一块，然后rfind找到最后一个句号。没有用正则是怕手机性能不够，没敢用😅\n",
    "\n",
    "所以:\n",
    "写个generator, 从当前位置开始, 切除L个字, 然后在这段里找到最后一个标点位置, 把子串发出, 再把起始位置定在最后一个标点位置"
   ]
  },
  {
   "cell_type": "code",
   "execution_count": 10,
   "metadata": {},
   "outputs": [],
   "source": [
    "if __name__==\"__main__\":\n",
    "    text=\"这一段话里面有数字2.34也有常规的英文标点.\\n 但我不想把数字给切分开, ,,，,,, 应该怎么做呢?\""
   ]
  },
  {
   "cell_type": "code",
   "execution_count": 15,
   "metadata": {},
   "outputs": [],
   "source": [
    "def cut_string(text, Lmax):\n",
    "    text=text.replace(\"\\n\",\"\")+\"\\n\"\n",
    "    punc=\"([\\s\\S]{3,\" +str(Lmax)+ \"}[,. ，。\\n|(?!.\\d+)|(?!,\\d+)])\"\n",
    "    return iter(re.findall(punc,text))"
   ]
  },
  {
   "cell_type": "code",
   "execution_count": 16,
   "metadata": {},
   "outputs": [
    {
     "name": "stdout",
     "output_type": "stream",
     "text": [
      "这一段话里面有数字2.34\n",
      "也有常规的英文标点. \n",
      "但我不想把数字给切分开, ,,，,,, \n",
      "应该怎么做呢?\n",
      "\n"
     ]
    }
   ],
   "source": [
    "if __name__==\"__main__\":\n",
    "    for sub_t in cut_string(text, 20):\n",
    "        print(sub_t)\n",
    "    "
   ]
  },
  {
   "cell_type": "markdown",
   "metadata": {},
   "source": [
    "# 讯飞tts"
   ]
  },
  {
   "cell_type": "markdown",
   "metadata": {},
   "source": [
    "按照讯飞的要求, 分别配置设置的字符串, http请求的head和body"
   ]
  },
  {
   "cell_type": "code",
   "execution_count": 5,
   "metadata": {},
   "outputs": [],
   "source": [
    "def init_xf_tts():\n",
    "    with open('API_setup.txt') as json_file:  \n",
    "        api = json.load(json_file)\n",
    "    # 构造输出音频配置参数\n",
    "    Param = {\n",
    "        \"auf\": \"audio/L16;rate=16000\",    #音频采样率\n",
    "        \"aue\": \"lame\",    #音频编码，raw(生成wav)或lame(生成mp3)\n",
    "        \"voice_name\": \"aisjiuxu\",\n",
    "        \"speed\": \"75\",    #语速[0,100]\n",
    "        \"volume\": \"77\",    #音量[0,100]\n",
    "        \"pitch\": \"30\",    #音高[0,100]\n",
    "        \"engine_type\": \"aisound\"    #引擎类型。aisound（普通效果），intp65（中文），intp65_en（英文）\n",
    "    }\n",
    "    Lmax=300\n",
    "    xf_tts=(Param, api,Lmax)\n",
    "    return xf_tts"
   ]
  },
  {
   "cell_type": "code",
   "execution_count": 6,
   "metadata": {},
   "outputs": [],
   "source": [
    "def construct_base64_str(Param):\n",
    "    # 配置参数编码为base64字符串，过程：字典→明文字符串→utf8编码→base64(bytes)→base64字符串\n",
    "    Param_str = json.dumps(Param)    #得到明文字符串\n",
    "    Param_utf8 = Param_str.encode('utf8')    #得到utf8编码(bytes类型)\n",
    "    Param_b64 = base64.b64encode(Param_utf8)    #得到base64编码(bytes类型)\n",
    "    Param_b64str = Param_b64.decode('utf8')    #得到base64字符串\n",
    "    return Param_b64str\n",
    "\n",
    "def construct_header(api, Param_b64str):\n",
    "    # 构造HTTP请求的头部\n",
    "    time_now = str(int(time.time()))\n",
    "    checksum = (api[\"key\"] + time_now + Param_b64str).encode('utf8')\n",
    "    checksum_md5 = hashlib.md5(checksum).hexdigest()\n",
    "    header = {\n",
    "        \"X-Appid\": api[\"id\"],\n",
    "        \"X-CurTime\": time_now,\n",
    "        \"X-Param\": Param_b64str,\n",
    "        \"X-CheckSum\": checksum_md5\n",
    "    }\n",
    "    return header\n",
    "\n",
    "def construct_urlencode_utf8(t):\n",
    "    # 构造HTTP请求Body\n",
    "    body = {\n",
    "        \"text\": t\n",
    "    }\n",
    "    body_urlencode = urllib.parse.urlencode(body)\n",
    "    body_utf8 = body_urlencode.encode('utf8')\n",
    "    return body_utf8\n"
   ]
  },
  {
   "cell_type": "markdown",
   "metadata": {},
   "source": [
    "短句tts"
   ]
  },
  {
   "cell_type": "code",
   "execution_count": 7,
   "metadata": {},
   "outputs": [],
   "source": [
    "def short_tts(TEXT, xf_tts):\n",
    "    Param, api, Lmax=xf_tts\n",
    "    # 发送HTTP POST请求\n",
    "    req = urllib.request.Request(\n",
    "        api[\"url\"], \n",
    "        data=construct_urlencode_utf8(TEXT), \n",
    "        headers=construct_header(api, construct_base64_str(Param)))\n",
    "    response = urllib.request.urlopen(req)\n",
    "    response_head = response.headers['Content-Type']\n",
    "    if(response_head == \"text/plain\"):\n",
    "        raise UserWarning(\"讯飞WebAPI错误: \", response.read().decode('utf8')[\"desc\"])\n",
    "#     return response.read()\n",
    "    return response"
   ]
  },
  {
   "cell_type": "markdown",
   "metadata": {},
   "source": [
    "长句tts"
   ]
  },
  {
   "cell_type": "code",
   "execution_count": 8,
   "metadata": {},
   "outputs": [],
   "source": [
    "def long_tts(TEXT, xf_tts):\n",
    "    Param, api, Lmax=xf_tts\n",
    "    data=[]\n",
    "    for sub_text in cut_string(TEXT, Lmax):\n",
    "        response = short_tts(sub_text, xf_tts)\n",
    "        data.append(response.read())\n",
    "#         data+=short_tts(sub_text, xf_tts)\n",
    "    return data\n",
    "\n",
    "def xf_save_tts(xf_tts, TEXT, filename):\n",
    "    data=long_tts(TEXT, xf_tts)\n",
    "    temp_filename_list=[\"tts_tmp_{}.mp3\".format(index) for index in range(len(data))]\n",
    "    \n",
    "    for index, voice_piece in enumerate(data):\n",
    "        temp_filename=temp_filename_list[index]\n",
    "        with open(temp_filename, 'wb') as f:\n",
    "            f.write(voice_piece)\n",
    "    with open(\"temp_file_list.txt\", \"w\") as f_temp:\n",
    "        for temp_filename in temp_filename_list:\n",
    "            f_temp.write(\"file '{}'\\n\".format(temp_filename))\n",
    "    # concat with ffmpeg\n",
    "#     ffmpeg -f concat -i mylist.txt -c copy output\n",
    "    subprocess.run([\n",
    "        \"ffmpeg\",\"-f\",\"concat\",\n",
    "        \"-i\", \"temp_file_list.txt\",\n",
    "        \"-c\", \"copy\",\n",
    "        filename\n",
    "    ])\n",
    "    os.remove(\"temp_file_list.txt\")\n",
    "    for temp_filename in temp_filename_list:\n",
    "        os.remove(temp_filename)"
   ]
  },
  {
   "cell_type": "code",
   "execution_count": 9,
   "metadata": {},
   "outputs": [],
   "source": [
    "if __name__==\"__main__\":\n",
    "    text='''\n",
    "只要晶状体出现浑浊，就叫白内障。\n",
    "所以白内障实际上是一个很宽泛的概念。\n",
    "我们知道人眼有2个透镜，1个是角膜，1个是晶状体, 相当于照相机上的镜头组，如果镜头之中有任何1个是混浊的，那么都会影响成像的质量。白内障可以是一部分的混浊，也可以是完全的混浊，\n",
    "白内障患者的视觉有可能是部分影响，觉得看东西模糊, 也可能是完全就看不见了。如果双眼晶状体都完全浑浊不透光, 那么患者就是盲人了. \n",
    "\n",
    "白内障是全球第一位的致盲性眼病，但白内障导致的眼盲是可逆的，我们后面讲只要做白内障手术，就可以使白内障患者重见光明。\n",
    "\n",
    "一个人, 如果眼睛看不到了，不但他自己失去工作和独立生活的能力，还需要有一个人来照顾她。这样就导致另一个人也无法继续工作. \n",
    "所以, 一个家庭可能会因为白内障致盲而从正常走向贫困。\n",
    "\n",
    "但幸好白内障是可逆性的致盲性眼病，所以反过来说, 如果将白内障治好了, 那么她的家庭很可能因此而脱贫。\n",
    "\n",
    "这就是为什么我们经常会听到有白内障扶贫手术这样的慈善活动. \n",
    "顺便说, 你是否知道全球不可逆的致盲性眼病，首要的原因是什么? 答案是青光眼。\n",
    "\n",
    "    '''\n",
    "    xf_tts=init_xf_tts()\n",
    "    xf_save_tts(xf_tts, text, \"tts_test.mp3\")"
   ]
  },
  {
   "cell_type": "code",
   "execution_count": null,
   "metadata": {},
   "outputs": [],
   "source": []
  }
 ],
 "metadata": {
  "kernelspec": {
   "display_name": "Python 3",
   "language": "python",
   "name": "python3"
  },
  "language_info": {
   "codemirror_mode": {
    "name": "ipython",
    "version": 3
   },
   "file_extension": ".py",
   "mimetype": "text/x-python",
   "name": "python",
   "nbconvert_exporter": "python",
   "pygments_lexer": "ipython3",
   "version": "3.5.6"
  }
 },
 "nbformat": 4,
 "nbformat_minor": 2
}
