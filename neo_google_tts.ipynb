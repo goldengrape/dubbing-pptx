{
 "cells": [
  {
   "cell_type": "markdown",
   "metadata": {},
   "source": [
    "重构google_speech\n",
    "\n",
    "Forked from https://github.com/desbma/GoogleSpeech\n",
    "\n",
    "在如下几个方面进行改变:\n",
    "* 在中英文混合的语句中, 中文要读中文, 英文要读英文. 因为是调用了Google translate的非官方API, 所以Pubmed居然会被读成“帕布莫德”这样的可怕中文名. \n",
    "* 支持BytesIO的读写, 并在内存内完成音频的拼接\n",
    "* 移除sox支持, 使之称为纯粹的python工具. 减少其他相关程序的安装. 受够了开源软件的一个又一个依赖. "
   ]
  },
  {
   "cell_type": "code",
   "execution_count": 251,
   "metadata": {},
   "outputs": [],
   "source": [
    "from io import BytesIO\n",
    "import re\n",
    "from google_speech import Speech\n",
    "from collections import Iterable\n"
   ]
  },
  {
   "cell_type": "code",
   "execution_count": null,
   "metadata": {},
   "outputs": [],
   "source": []
  },
  {
   "cell_type": "code",
   "execution_count": 258,
   "metadata": {},
   "outputs": [],
   "source": [
    "class neoSpeech(Speech):\n",
    "    def __init__(self, text, default_lang, switch_lang):\n",
    "        self.text = self.cleanSpaces(text)\n",
    "        self.lang = default_lang\n",
    "        self.switch_lang=switch_lang\n",
    "        self.switch_lang_pattern=__class__.split_cn_en_pattern()\n",
    "        \n",
    "    def __next__(self):\n",
    "        \"\"\" Get a speech segment, splitting text by taking into account spaces, punctuation, and maximum segment size. \"\"\"\n",
    "        if self.text == \"-\":\n",
    "            if sys.stdin.isatty():\n",
    "                logging.getLogger().error(\"Stdin is not a pipe\")\n",
    "                return\n",
    "            while True:\n",
    "                new_line = sys.stdin.readline()\n",
    "                if not new_line:\n",
    "                    return\n",
    "                segments = __class__.splitText(self, new_line)\n",
    "                for segment_num, segment in enumerate(segments):\n",
    "                    if __class__.is_EN(segment):\n",
    "                        now_lang=self.switch_lang\n",
    "                    else:\n",
    "                        now_lang=self.lang\n",
    "                    yield SpeechSegment(segment, now_lang, segment_num, len(segments))\n",
    "\n",
    "        else:\n",
    "            segments = __class__.splitText(self, self.text)\n",
    "            for segment_num, segment in enumerate(segments):\n",
    "                if __class__.is_EN(segment):\n",
    "                        now_lang=self.switch_lang\n",
    "                else:\n",
    "                        now_lang=self.lang\n",
    "                yield SpeechSegment(segment, now_lang, segment_num, len(segments))\n",
    "\n",
    "    def is_EN(text):\n",
    "        c=text[0]\n",
    "        return ((c>='a' and c<=\"z\") or (c>='A' and c<=\"Z\"))\n",
    "                                       \n",
    "    def split_cn_en_pattern():\n",
    "        punc='[{}]'.format(string.punctuation +\"！，。？、~@#￥%……&*（）：；《）《》“”()»〔〕-\")\n",
    "        regex = []\n",
    "\n",
    "        # Match a English string with space:\n",
    "        regex += [\"[a-zA-Z ]+\"+punc+\"*\"]\n",
    "        # Match a Chinese string:\n",
    "        regex += ['[\\u4e00-\\ufaff0-9]+'+punc+\"*\"]\n",
    "        regex = \"|\".join(regex)\n",
    "        return re.compile(regex)\n",
    "\n",
    "    \n",
    "    def splitText(self,text):\n",
    "        useless_chars = frozenset(\n",
    "                              string.punctuation \n",
    "                              + string.whitespace\n",
    "                              + \"！，。？、~@#￥%……&*（）：；《）《》“”()»〔〕-\" #this line is Chinese punctuation\n",
    "                              )\n",
    "        punc=\"([\\s\\S]{2,\" +str(__class__.MAX_SEGMENT_SIZE)+ \"}[useless_chars|(?!.\\d+)|(?!,\\d+)])\"\n",
    "        \n",
    "        s=[]\n",
    "        for t in re.findall(punc,text):\n",
    "            s += self.switch_lang_pattern.findall(t)                               \n",
    "                                       \n",
    "        return s\n",
    "\n",
    "    def save(self, path):\n",
    "        \"\"\" Save audio data to file or BytesIO. \"\"\"\n",
    "        if isinstance(path, str):\n",
    "            with open(path, \"wb\") as f:\n",
    "                for segment in self:\n",
    "                    f.write(segment.getAudioData())\n",
    "        \n",
    "        if isinstance(path, BytesIO):\n",
    "            for segment in self:\n",
    "                path.write(segment.getAudioData())"
   ]
  },
  {
   "cell_type": "code",
   "execution_count": 259,
   "metadata": {},
   "outputs": [],
   "source": [
    "text= '''\n",
    "iPad Pro    测试任务:\n",
    "1. 单手持9iPad pro, 感觉重量.\n",
    "2. 用iPad Pro原装键盘测试中文输入, 看速度和手指按错的错误率.\n",
    "3. 用iPad pro原装的笔测试手写输入, 测试画图, 感觉笔尖在屏幕上滑动时摩擦力是否感觉舒适\n",
    "4. 打开 https://www.photopea.com/  看能否在iPad pro的safari上流畅运行, 是否能够满足photoshop的大多数功能, 是否满足常用的照片编辑功能.\n",
    "5. 找到安装有adobe lightroom的iPad pro, (问店员, 有些机器为了演示是预装好的). 看能否满足常用的照片编辑. \n",
    "6. 看这些app上的按钮大小是否可以舒适看清, 尽量使用手写笔进行操作, 评估操作舒适程度. 根据重量和操作舒适性选择屏幕的大小. \n",
    "\n",
    "'''"
   ]
  },
  {
   "cell_type": "code",
   "execution_count": 260,
   "metadata": {},
   "outputs": [
    {
     "ename": "NameError",
     "evalue": "name 'SpeechSegment' is not defined",
     "output_type": "error",
     "traceback": [
      "\u001b[0;31m---------------------------------------------------------------------------\u001b[0m",
      "\u001b[0;31mNameError\u001b[0m                                 Traceback (most recent call last)",
      "\u001b[0;32m<ipython-input-260-8bd8be2a92d7>\u001b[0m in \u001b[0;36m<module>\u001b[0;34m()\u001b[0m\n\u001b[1;32m      1\u001b[0m \u001b[0;31m# say \"Hello World\"\u001b[0m\u001b[0;34m\u001b[0m\u001b[0;34m\u001b[0m\u001b[0m\n\u001b[1;32m      2\u001b[0m \u001b[0mspeech\u001b[0m \u001b[0;34m=\u001b[0m \u001b[0mneoSpeech\u001b[0m\u001b[0;34m(\u001b[0m\u001b[0mtext\u001b[0m\u001b[0;34m,\u001b[0m \u001b[0;34m'zh-cn'\u001b[0m\u001b[0;34m,\u001b[0m\u001b[0;34m'en'\u001b[0m\u001b[0;34m)\u001b[0m\u001b[0;34m\u001b[0m\u001b[0m\n\u001b[0;32m----> 3\u001b[0;31m \u001b[0mspeech\u001b[0m\u001b[0;34m.\u001b[0m\u001b[0mplay\u001b[0m\u001b[0;34m(\u001b[0m\u001b[0;34m)\u001b[0m\u001b[0;34m\u001b[0m\u001b[0m\n\u001b[0m\u001b[1;32m      4\u001b[0m \u001b[0;34m\u001b[0m\u001b[0m\n\u001b[1;32m      5\u001b[0m \u001b[0;31m# you can also apply audio effects while playing (using SoX)\u001b[0m\u001b[0;34m\u001b[0m\u001b[0;34m\u001b[0m\u001b[0m\n",
      "\u001b[0;32m~/anaconda3/envs/blog/lib/python3.5/site-packages/google_speech/__init__.py\u001b[0m in \u001b[0;36mplay\u001b[0;34m(self, sox_effects)\u001b[0m\n\u001b[1;32m    127\u001b[0m     \u001b[0mpreloader_threads\u001b[0m \u001b[0;34m=\u001b[0m \u001b[0;34m[\u001b[0m\u001b[0;34m]\u001b[0m\u001b[0;34m\u001b[0m\u001b[0m\n\u001b[1;32m    128\u001b[0m     \u001b[0;32mif\u001b[0m \u001b[0mself\u001b[0m\u001b[0;34m.\u001b[0m\u001b[0mtext\u001b[0m \u001b[0;34m!=\u001b[0m \u001b[0;34m\"-\"\u001b[0m\u001b[0;34m:\u001b[0m\u001b[0;34m\u001b[0m\u001b[0m\n\u001b[0;32m--> 129\u001b[0;31m       \u001b[0msegments\u001b[0m \u001b[0;34m=\u001b[0m \u001b[0mlist\u001b[0m\u001b[0;34m(\u001b[0m\u001b[0mself\u001b[0m\u001b[0;34m)\u001b[0m\u001b[0;34m\u001b[0m\u001b[0m\n\u001b[0m\u001b[1;32m    130\u001b[0m       \u001b[0;31m# start preloader thread(s)\u001b[0m\u001b[0;34m\u001b[0m\u001b[0;34m\u001b[0m\u001b[0m\n\u001b[1;32m    131\u001b[0m       \u001b[0mpreloader_threads\u001b[0m \u001b[0;34m=\u001b[0m \u001b[0;34m[\u001b[0m\u001b[0mPreloaderThread\u001b[0m\u001b[0;34m(\u001b[0m\u001b[0mname\u001b[0m\u001b[0;34m=\u001b[0m\u001b[0;34m\"PreloaderThread-%u\"\u001b[0m \u001b[0;34m%\u001b[0m \u001b[0;34m(\u001b[0m\u001b[0mi\u001b[0m\u001b[0;34m)\u001b[0m\u001b[0;34m)\u001b[0m \u001b[0;32mfor\u001b[0m \u001b[0mi\u001b[0m \u001b[0;32min\u001b[0m \u001b[0mrange\u001b[0m\u001b[0;34m(\u001b[0m\u001b[0mPRELOADER_THREAD_COUNT\u001b[0m\u001b[0;34m)\u001b[0m\u001b[0;34m]\u001b[0m\u001b[0;34m\u001b[0m\u001b[0m\n",
      "\u001b[0;32m<ipython-input-258-ab4d3331fc89>\u001b[0m in \u001b[0;36m__next__\u001b[0;34m(self)\u001b[0m\n\u001b[1;32m     31\u001b[0m                 \u001b[0;32melse\u001b[0m\u001b[0;34m:\u001b[0m\u001b[0;34m\u001b[0m\u001b[0m\n\u001b[1;32m     32\u001b[0m                         \u001b[0mnow_lang\u001b[0m\u001b[0;34m=\u001b[0m\u001b[0mself\u001b[0m\u001b[0;34m.\u001b[0m\u001b[0mlang\u001b[0m\u001b[0;34m\u001b[0m\u001b[0m\n\u001b[0;32m---> 33\u001b[0;31m                 \u001b[0;32myield\u001b[0m \u001b[0mSpeechSegment\u001b[0m\u001b[0;34m(\u001b[0m\u001b[0msegment\u001b[0m\u001b[0;34m,\u001b[0m \u001b[0mnow_lang\u001b[0m\u001b[0;34m,\u001b[0m \u001b[0msegment_num\u001b[0m\u001b[0;34m,\u001b[0m \u001b[0mlen\u001b[0m\u001b[0;34m(\u001b[0m\u001b[0msegments\u001b[0m\u001b[0;34m)\u001b[0m\u001b[0;34m)\u001b[0m\u001b[0;34m\u001b[0m\u001b[0m\n\u001b[0m\u001b[1;32m     34\u001b[0m \u001b[0;34m\u001b[0m\u001b[0m\n\u001b[1;32m     35\u001b[0m     \u001b[0;32mdef\u001b[0m \u001b[0mis_EN\u001b[0m\u001b[0;34m(\u001b[0m\u001b[0mtext\u001b[0m\u001b[0;34m)\u001b[0m\u001b[0;34m:\u001b[0m\u001b[0;34m\u001b[0m\u001b[0m\n",
      "\u001b[0;31mNameError\u001b[0m: name 'SpeechSegment' is not defined"
     ]
    }
   ],
   "source": [
    "# say \"Hello World\"\n",
    "speech = neoSpeech(text, 'zh-cn','en')\n",
    "speech.play()\n",
    "\n",
    "# you can also apply audio effects while playing (using SoX)\n",
    "# see http://sox.sourceforge.net/sox.html#EFFECTS for full effect documentation\n",
    "sox_effects = (\"speed\", \"1.5\")\n",
    "speech.play(sox_effects)\n",
    "\n",
    "# save the speech to an MP3 file (no effect is applied)\n",
    "f = BytesIO()\n",
    "speech.save(f)"
   ]
  },
  {
   "cell_type": "code",
   "execution_count": 225,
   "metadata": {},
   "outputs": [
    {
     "name": "stdout",
     "output_type": "stream",
     "text": [
      "['iPad Pro    ', '测试任务:', '1.', ' ', '单手持9', 'iPad pro,', ' ', '感觉重量.', '2.', ' ', '用', 'iPad Pro', '原装键盘测试中文输入,', ' ', '看速度和手指按错的错误率.', '3.', ' ', '用', 'iPad pro', '原装的笔测试手写输入,', ' ', '测试画图,', ' ', '感觉笔尖在屏幕上滑动时摩擦力是否感觉舒适', '4.', ' ', '打开', ' https://', 'www.', 'photopea.', 'com/', '  ', '看能否在', 'iPad pro', '的', 'safari', '上流畅运行,', ' ', '是否能够满足', 'photoshop', '的大多数功能,', ' ', '是否满足常用的照片编辑功能.', '5.', ' ', '找到安装有', 'adobe lightroom', '的', 'iPad pro,', ' (', '问店员,', ' ', '有些机器为了演示是预装好的).', ' ', '看能否满足常用的照片编辑.', ' ', '6.', ' ', '看这些', 'app', '上的按钮大小是否可以舒适看清,', ' ', '尽量使用手写笔进行操作,', ' ', '评估操作舒适程度.', ' ', '根据重量和操作舒适性选择屏幕的大小.', ' ']\n"
     ]
    }
   ],
   "source": [
    "def split_cn_en_pattern():\n",
    "    punc='[{}]'.format(string.punctuation +\"！，。？、~@#￥%……&*（）：；《）《》“”()»〔〕-\")\n",
    "    regex = []\n",
    "\n",
    "    # Match a English string with space:\n",
    "    regex += [\"[a-zA-Z ]+\"+punc+\"*\"]\n",
    "    # Match a Chinese string:\n",
    "    regex += ['[\\u4e00-\\ufaff0-9]+'+punc+\"*\"]\n",
    "    regex = \"|\".join(regex)\n",
    "    return re.compile(regex)\n",
    "\n",
    "pattern=split_cn_en_pattern()\n",
    "\n",
    "print(pattern.findall(text))"
   ]
  },
  {
   "cell_type": "code",
   "execution_count": 238,
   "metadata": {},
   "outputs": [
    {
     "name": "stdout",
     "output_type": "stream",
     "text": [
      "False\n"
     ]
    }
   ],
   "source": [
    "def is_EN(text):\n",
    "    c=text[0]\n",
    "    return ((c>='a' and c<=\"z\") or (c>='A' and c<=\"Z\"))\n",
    "print(is_EN('测试任务:'))"
   ]
  },
  {
   "cell_type": "code",
   "execution_count": 221,
   "metadata": {},
   "outputs": [
    {
     "data": {
      "text/plain": [
       "True"
      ]
     },
     "execution_count": 221,
     "metadata": {},
     "output_type": "execute_result"
    }
   ],
   "source": [
    "is_EN('测试任务:')"
   ]
  },
  {
   "cell_type": "code",
   "execution_count": 236,
   "metadata": {},
   "outputs": [
    {
     "data": {
      "text/plain": [
       "False"
      ]
     },
     "execution_count": 236,
     "metadata": {},
     "output_type": "execute_result"
    }
   ],
   "source": [
    "c='iPad Pro    '[0]\n",
    "c='测试任务:'[0]\n",
    "(c>='a' and c<=\"z\") or ((c>='A' and c<=\"Z\"))"
   ]
  },
  {
   "cell_type": "code",
   "execution_count": null,
   "metadata": {},
   "outputs": [],
   "source": []
  }
 ],
 "metadata": {
  "kernelspec": {
   "display_name": "Python 3",
   "language": "python",
   "name": "python3"
  },
  "language_info": {
   "codemirror_mode": {
    "name": "ipython",
    "version": 3
   },
   "file_extension": ".py",
   "mimetype": "text/x-python",
   "name": "python",
   "nbconvert_exporter": "python",
   "pygments_lexer": "ipython3",
   "version": "3.5.6"
  }
 },
 "nbformat": 4,
 "nbformat_minor": 2
}
