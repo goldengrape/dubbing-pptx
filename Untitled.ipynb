{
 "cells": [
  {
   "cell_type": "code",
   "execution_count": 1,
   "metadata": {},
   "outputs": [],
   "source": [
    "from google_tts import Speech as neo_Speech\n",
    "from google_speech import Speech as ori_Speech\n",
    "from io import BytesIO\n",
    "from pydub import AudioSegment\n",
    "from pydub.playback import play\n",
    "\n",
    "\n",
    "text = \"这一句话This sentence中既有中文又有English，\" \n",
    "# This sentence has both Chinese and English.\n",
    "\n",
    "lang = \"zh-cn\"\n",
    "speech = neo_Speech(text,lang)\n",
    "\n"
   ]
  },
  {
   "cell_type": "code",
   "execution_count": 2,
   "metadata": {},
   "outputs": [],
   "source": [
    "text = \"This sentence has both Chinese and English\" \n",
    "# This sentence has both Chinese and English.\n",
    "\n",
    "lang = \"en-us\"\n",
    "speech = ori_Speech(text,lang)\n",
    "f = BytesIO()\n",
    "speech.save(\"en.mp3\")\n",
    "dataen = open('en.mp3', 'rb').read()\n",
    "f.write(dataen)\n",
    "en_voice = AudioSegment.from_mp3(BytesIO(dataen))\n",
    "# play(en_voice)\n"
   ]
  },
  {
   "cell_type": "code",
   "execution_count": 5,
   "metadata": {},
   "outputs": [],
   "source": [
    "combined = AudioSegment.empty()\n",
    "combined += cn_voice\n",
    "combined += en_voice\n",
    "play(combined)"
   ]
  },
  {
   "cell_type": "code",
   "execution_count": null,
   "metadata": {},
   "outputs": [],
   "source": []
  },
  {
   "cell_type": "code",
   "execution_count": null,
   "metadata": {},
   "outputs": [],
   "source": []
  }
 ],
 "metadata": {
  "kernelspec": {
   "display_name": "Python 3",
   "language": "python",
   "name": "python3"
  },
  "language_info": {
   "codemirror_mode": {
    "name": "ipython",
    "version": 3
   },
   "file_extension": ".py",
   "mimetype": "text/x-python",
   "name": "python",
   "nbconvert_exporter": "python",
   "pygments_lexer": "ipython3",
   "version": "3.5.6"
  }
 },
 "nbformat": 4,
 "nbformat_minor": 2
}
