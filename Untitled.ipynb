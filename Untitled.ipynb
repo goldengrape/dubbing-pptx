{
 "cells": [
  {
   "cell_type": "markdown",
   "metadata": {},
   "source": [
    "# from google_tts import Speech\n",
    "from io import BytesIO\n",
    "from pydub import AudioSegment\n",
    "\n",
    "# say \"Hello World\"\n",
    "text = \"Hello World, 你好世界!\"\n",
    "lang = \"zh-tw\"\n",
    "speech = Speech(text, lang)\n",
    "# speech.play()\n",
    "\n",
    "print(speech.splitText(text))\n",
    "\n",
    "# you can also apply audio effects while playing (using SoX)\n",
    "# see http://sox.sourceforge.net/sox.html#EFFECTS for full effect documentation\n",
    "# sox_effects = (\"speed\", \"1.5\")\n",
    "# speech.play(sox_effects)\n",
    "\n",
    "# save the speech to an MP3 file (no effect is applied)\n",
    "\n"
   ]
  },
  {
   "cell_type": "code",
   "execution_count": 2,
   "metadata": {},
   "outputs": [],
   "source": [
    "text='''\n",
    "点开这篇Use of Orthokeratology for the Prevention of Myopic Progression in Children: A Report by the American Academy of Ophthalmology. \n",
    "你会看到一段摘要, 也就是abstract, 讲述了该文献的大致内容, 如果是临床试验研究, 往往读一下摘要就可以知道其研究结果, 如果嫌弃读英文烦, 也可以用上彩云小译的插件,\n",
    "\n",
    "但对于大而全的综述, 最好找到全文, 去读读详细.\n",
    "\n",
    "理论上, 文章的全文链接出现在右侧的Full text links, 但实际上往往点进去是要求付费的. 这是科学界自己也非常不爽的事情, 明明是拿着纳税人的钱做出的研究成果, 却无法分享给全社会, 而被科学杂志收取了费用, 甚至科学家自己不但没有稿费还经常要掏版面费.\n",
    "\n",
    "'''"
   ]
  },
  {
   "cell_type": "code",
   "execution_count": null,
   "metadata": {},
   "outputs": [],
   "source": []
  },
  {
   "cell_type": "code",
   "execution_count": null,
   "metadata": {},
   "outputs": [],
   "source": []
  },
  {
   "cell_type": "code",
   "execution_count": 3,
   "metadata": {},
   "outputs": [
    {
     "name": "stdout",
     "output_type": "stream",
     "text": [
      "['点开这篇', 'Use of Orthokeratology for the Prevention of Myopic Progression in Children: A Report by the America', '你会看到一段摘要, 也就是', 'abstract, ', '讲述了该文献的大致内容, 如果是临床试验研究, 往往读一下摘要就可以知道其研究结果, 如果嫌弃读英文烦, 也可以用上彩云小译的插件,', '但对于大而全的综述, 最好找到全文, 去读读详细.', '理论上, 文章的全文链接出现在右侧的', 'Full text links, ', '但实际上往往点进去是要求付费的. 这是科学界自己也非常不爽的事情, 明明是拿着纳税人的钱做出的研究成果, 却无法分享给全社会, 而被科学杂志收取了费用, 甚至科学家自己不但没有稿费还经常要掏版面费.']\n",
      "点开这篇\n",
      "Use of Orthokeratology for the Prevention of Myopic Progression in Children: A Report by the America\n",
      "你会看到一段摘要, 也就是\n",
      "abstract, \n",
      "讲述了该文献的大致内容, 如果是临床试验研究, 往往读一下摘要就可以知道其研究结果, 如果嫌弃读英文烦, 也可以用上彩云小译的插件,\n",
      "但对于大而全的综述, 最好找到全文, 去读读详细.\n",
      "理论上, 文章的全文链接出现在右侧的\n",
      "Full text links, \n",
      "但实际上往往点进去是要求付费的. 这是科学界自己也非常不爽的事情, 明明是拿着纳税人的钱做出的研究成果, 却无法分享给全社会, 而被科学杂志收取了费用, 甚至科学家自己不但没有稿费还经常要掏版面费..\n"
     ]
    }
   ],
   "source": [
    "speech = Speech(text, lang)\n",
    "print(speech.splitText(text))\n",
    "speech.save(\"error.mp3\")\n"
   ]
  },
  {
   "cell_type": "code",
   "execution_count": 5,
   "metadata": {},
   "outputs": [],
   "source": [
    "from google_speech import Speech\n",
    "\n",
    "# say \"Hello World\"\n",
    "text = [\"The atomic structure of the nucleosome has been revealed by X-ray crystallography,\", \n",
    "        \"delineating how this is important\"]\n",
    "lang = \"en\"\n",
    "for t in text:\n",
    "    speech = Speech(t,'en')\n",
    "    speech.play()\n",
    "\n",
    "# you can also apply audio effects while playing (using SoX)\n",
    "# see http://sox.sourceforge.net/sox.html#EFFECTS for full effect documentation\n",
    "# sox_effects = (\"speed\", \"1.5\")\n",
    "# speech.play(sox_effects)\n"
   ]
  },
  {
   "cell_type": "code",
   "execution_count": null,
   "metadata": {},
   "outputs": [],
   "source": []
  }
 ],
 "metadata": {
  "kernelspec": {
   "display_name": "Python 3",
   "language": "python",
   "name": "python3"
  },
  "language_info": {
   "codemirror_mode": {
    "name": "ipython",
    "version": 3
   },
   "file_extension": ".py",
   "mimetype": "text/x-python",
   "name": "python",
   "nbconvert_exporter": "python",
   "pygments_lexer": "ipython3",
   "version": "3.5.6"
  }
 },
 "nbformat": 4,
 "nbformat_minor": 2
}
