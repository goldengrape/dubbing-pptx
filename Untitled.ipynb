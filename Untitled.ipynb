{
 "cells": [
  {
   "cell_type": "code",
   "execution_count": 12,
   "metadata": {},
   "outputs": [],
   "source": [
    "from google_tts import Speech as neo_Speech\n",
    "from google_speech import Speech as ori_Speech\n",
    "from io import BytesIO\n",
    "from pydub import AudioSegment\n",
    "from pydub.playback import play\n",
    "\n",
    "\n",
    "text = \"这一句话中既有中文又有\" \n",
    "# This sentence has both Chinese and English.\n",
    "\n",
    "lang = \"zh-cn\"\n",
    "speech = ori_Speech(text,lang)\n",
    "f = BytesIO()\n",
    "speech.save(\"cn.mp3\")\n",
    "datacn = open('cn.mp3', 'rb').read()\n",
    "f.write(datacn)\n",
    "cn_voice = AudioSegment.from_mp3(BytesIO(datacn))\n",
    "play(cn_voice)\n"
   ]
  },
  {
   "cell_type": "code",
   "execution_count": 10,
   "metadata": {},
   "outputs": [],
   "source": [
    "text = \"This sentence has both Chinese and English\" \n",
    "# This sentence has both Chinese and English.\n",
    "\n",
    "lang = \"en-us\"\n",
    "speech = ori_Speech(text,lang)\n",
    "f = BytesIO()\n",
    "speech.save(\"en.mp3\")\n",
    "dataen = open('en.mp3', 'rb').read()\n",
    "f.write(dataen)\n",
    "en_voice = AudioSegment.from_mp3(BytesIO(dataen))\n",
    "play(en_voice)\n"
   ]
  },
  {
   "cell_type": "code",
   "execution_count": 11,
   "metadata": {},
   "outputs": [],
   "source": [
    "both=cn_voice+en_voice+cn_voice\n",
    "play(both)"
   ]
  },
  {
   "cell_type": "code",
   "execution_count": null,
   "metadata": {},
   "outputs": [],
   "source": []
  }
 ],
 "metadata": {
  "kernelspec": {
   "display_name": "Python 3",
   "language": "python",
   "name": "python3"
  },
  "language_info": {
   "codemirror_mode": {
    "name": "ipython",
    "version": 3
   },
   "file_extension": ".py",
   "mimetype": "text/x-python",
   "name": "python",
   "nbconvert_exporter": "python",
   "pygments_lexer": "ipython3",
   "version": "3.5.6"
  }
 },
 "nbformat": 4,
 "nbformat_minor": 2
}
