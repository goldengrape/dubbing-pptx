{
 "cells": [
  {
   "cell_type": "code",
   "execution_count": 1,
   "metadata": {},
   "outputs": [
    {
     "ename": "CouldntEncodeError",
     "evalue": "Encoding failed. ffmpeg/avlib returned error code: 1\n\nCommand:['ffmpeg', '-y', '-f', 'wav', '-i', '/var/folders/bh/s7cgpwh54k52w067fqldlvy40000gp/T/tmp42jju4o8', '-acodec', 'libmp3lame', '-f', 'mp3', '/var/folders/bh/s7cgpwh54k52w067fqldlvy40000gp/T/tmpr_bofhmh']\n\nOutput from ffmpeg/avlib:\n\nb\"ffmpeg version 4.0.1 Copyright (c) 2000-2018 the FFmpeg developers\\n  built with Apple LLVM version 6.1.0 (clang-602.0.53) (based on LLVM 3.6.0svn)\\n  configuration: --prefix=/Users/goldengrape/anaconda3/envs/blog --disable-doc --enable-shared --enable-static --extra-cflags='-Wall -g -m64 -pipe -O3 -march=x86-64 -fPIC' --extra-cxxflags='-Wall -g -m64 -pipe -O3 -march=x86-64 -fPIC' --extra-libs='-lpthread -lm -lz' --enable-zlib --enable-pic --enable-pthreads --enable-gpl --enable-version3 --enable-hardcoded-tables --enable-avresample --enable-libfreetype --enable-gnutls --enable-libx264\\n  libavutil      56. 14.100 / 56. 14.100\\n  libavcodec     58. 18.100 / 58. 18.100\\n  libavformat    58. 12.100 / 58. 12.100\\n  libavdevice    58.  3.100 / 58.  3.100\\n  libavfilter     7. 16.100 /  7. 16.100\\n  libavresample   4.  0.  0 /  4.  0.  0\\n  libswscale      5.  1.100 /  5.  1.100\\n  libswresample   3.  1.100 /  3.  1.100\\n  libpostproc    55.  1.100 / 55.  1.100\\nGuessed Channel Layout for Input Stream #0.0 : mono\\nInput #0, wav, from '/var/folders/bh/s7cgpwh54k52w067fqldlvy40000gp/T/tmp42jju4o8':\\n  Duration: 00:00:07.15, bitrate: 384 kb/s\\n    Stream #0:0: Audio: pcm_s16le ([1][0][0][0] / 0x0001), 24000 Hz, mono, s16, 384 kb/s\\nUnknown encoder 'libmp3lame'\\n\"",
     "output_type": "error",
     "traceback": [
      "\u001b[0;31m---------------------------------------------------------------------------\u001b[0m",
      "\u001b[0;31mCouldntEncodeError\u001b[0m                        Traceback (most recent call last)",
      "\u001b[0;32m<ipython-input-1-2fec3839ee9b>\u001b[0m in \u001b[0;36m<module>\u001b[0;34m()\u001b[0m\n\u001b[1;32m     11\u001b[0m \u001b[0mlang\u001b[0m \u001b[0;34m=\u001b[0m \u001b[0;34m\"zh-cn\"\u001b[0m\u001b[0;34m\u001b[0m\u001b[0m\n\u001b[1;32m     12\u001b[0m \u001b[0mspeech\u001b[0m \u001b[0;34m=\u001b[0m \u001b[0mneo_Speech\u001b[0m\u001b[0;34m(\u001b[0m\u001b[0mtext\u001b[0m\u001b[0;34m,\u001b[0m\u001b[0mlang\u001b[0m\u001b[0;34m)\u001b[0m\u001b[0;34m\u001b[0m\u001b[0m\n\u001b[0;32m---> 13\u001b[0;31m \u001b[0mspeech\u001b[0m\u001b[0;34m.\u001b[0m\u001b[0msave\u001b[0m\u001b[0;34m(\u001b[0m\u001b[0;34m\"test.mp3\"\u001b[0m\u001b[0;34m)\u001b[0m\u001b[0;34m\u001b[0m\u001b[0m\n\u001b[0m",
      "\u001b[0;32m/Volumes/macTF/github/dubbing-pptx/google_tts.py\u001b[0m in \u001b[0;36msave\u001b[0;34m(self, path)\u001b[0m\n\u001b[1;32m    198\u001b[0m         \u001b[0;34m\"\"\" Save audio data to an MP3 file. \"\"\"\u001b[0m\u001b[0;34m\u001b[0m\u001b[0m\n\u001b[1;32m    199\u001b[0m         \u001b[0;32mwith\u001b[0m \u001b[0mopen\u001b[0m\u001b[0;34m(\u001b[0m\u001b[0mpath\u001b[0m\u001b[0;34m,\u001b[0m \u001b[0;34m\"wb\"\u001b[0m\u001b[0;34m)\u001b[0m \u001b[0;32mas\u001b[0m \u001b[0mf\u001b[0m\u001b[0;34m:\u001b[0m\u001b[0;34m\u001b[0m\u001b[0m\n\u001b[0;32m--> 200\u001b[0;31m             \u001b[0mself\u001b[0m\u001b[0;34m.\u001b[0m\u001b[0msavef\u001b[0m\u001b[0;34m(\u001b[0m\u001b[0mf\u001b[0m\u001b[0;34m)\u001b[0m\u001b[0;34m\u001b[0m\u001b[0m\n\u001b[0m\u001b[1;32m    201\u001b[0m \u001b[0;34m\u001b[0m\u001b[0m\n\u001b[1;32m    202\u001b[0m     \u001b[0;32mdef\u001b[0m \u001b[0msavef\u001b[0m\u001b[0;34m(\u001b[0m\u001b[0mself\u001b[0m\u001b[0;34m,\u001b[0m \u001b[0mfile\u001b[0m\u001b[0;34m)\u001b[0m\u001b[0;34m:\u001b[0m\u001b[0;34m\u001b[0m\u001b[0m\n",
      "\u001b[0;32m/Volumes/macTF/github/dubbing-pptx/google_tts.py\u001b[0m in \u001b[0;36msavef\u001b[0;34m(self, file)\u001b[0m\n\u001b[1;32m    207\u001b[0m         combined.export(file, \n\u001b[1;32m    208\u001b[0m                         \u001b[0mformat\u001b[0m\u001b[0;34m=\u001b[0m\u001b[0;34m\"mp3\"\u001b[0m\u001b[0;34m,\u001b[0m\u001b[0;34m\u001b[0m\u001b[0m\n\u001b[0;32m--> 209\u001b[0;31m                         codec=\"libmp3lame\")\n\u001b[0m\u001b[1;32m    210\u001b[0m     \u001b[0;32mdef\u001b[0m \u001b[0mtest\u001b[0m\u001b[0;34m(\u001b[0m\u001b[0mself\u001b[0m\u001b[0;34m)\u001b[0m\u001b[0;34m:\u001b[0m\u001b[0;34m\u001b[0m\u001b[0m\n\u001b[1;32m    211\u001b[0m         \u001b[0mcombined\u001b[0m \u001b[0;34m=\u001b[0m \u001b[0mAudioSegment\u001b[0m\u001b[0;34m.\u001b[0m\u001b[0mempty\u001b[0m\u001b[0;34m(\u001b[0m\u001b[0;34m)\u001b[0m\u001b[0;34m\u001b[0m\u001b[0m\n",
      "\u001b[0;32m~/anaconda3/envs/blog/lib/python3.5/site-packages/pydub/audio_segment.py\u001b[0m in \u001b[0;36mexport\u001b[0;34m(self, out_f, format, codec, bitrate, parameters, tags, id3v2_version, cover)\u001b[0m\n\u001b[1;32m    875\u001b[0m             raise CouldntEncodeError(\n\u001b[1;32m    876\u001b[0m                 \"Encoding failed. ffmpeg/avlib returned error code: {0}\\n\\nCommand:{1}\\n\\nOutput from ffmpeg/avlib:\\n\\n{2}\".format(\n\u001b[0;32m--> 877\u001b[0;31m                     p.returncode, conversion_command, p_err))\n\u001b[0m\u001b[1;32m    878\u001b[0m \u001b[0;34m\u001b[0m\u001b[0m\n\u001b[1;32m    879\u001b[0m         \u001b[0moutput\u001b[0m\u001b[0;34m.\u001b[0m\u001b[0mseek\u001b[0m\u001b[0;34m(\u001b[0m\u001b[0;36m0\u001b[0m\u001b[0;34m)\u001b[0m\u001b[0;34m\u001b[0m\u001b[0m\n",
      "\u001b[0;31mCouldntEncodeError\u001b[0m: Encoding failed. ffmpeg/avlib returned error code: 1\n\nCommand:['ffmpeg', '-y', '-f', 'wav', '-i', '/var/folders/bh/s7cgpwh54k52w067fqldlvy40000gp/T/tmp42jju4o8', '-acodec', 'libmp3lame', '-f', 'mp3', '/var/folders/bh/s7cgpwh54k52w067fqldlvy40000gp/T/tmpr_bofhmh']\n\nOutput from ffmpeg/avlib:\n\nb\"ffmpeg version 4.0.1 Copyright (c) 2000-2018 the FFmpeg developers\\n  built with Apple LLVM version 6.1.0 (clang-602.0.53) (based on LLVM 3.6.0svn)\\n  configuration: --prefix=/Users/goldengrape/anaconda3/envs/blog --disable-doc --enable-shared --enable-static --extra-cflags='-Wall -g -m64 -pipe -O3 -march=x86-64 -fPIC' --extra-cxxflags='-Wall -g -m64 -pipe -O3 -march=x86-64 -fPIC' --extra-libs='-lpthread -lm -lz' --enable-zlib --enable-pic --enable-pthreads --enable-gpl --enable-version3 --enable-hardcoded-tables --enable-avresample --enable-libfreetype --enable-gnutls --enable-libx264\\n  libavutil      56. 14.100 / 56. 14.100\\n  libavcodec     58. 18.100 / 58. 18.100\\n  libavformat    58. 12.100 / 58. 12.100\\n  libavdevice    58.  3.100 / 58.  3.100\\n  libavfilter     7. 16.100 /  7. 16.100\\n  libavresample   4.  0.  0 /  4.  0.  0\\n  libswscale      5.  1.100 /  5.  1.100\\n  libswresample   3.  1.100 /  3.  1.100\\n  libpostproc    55.  1.100 / 55.  1.100\\nGuessed Channel Layout for Input Stream #0.0 : mono\\nInput #0, wav, from '/var/folders/bh/s7cgpwh54k52w067fqldlvy40000gp/T/tmp42jju4o8':\\n  Duration: 00:00:07.15, bitrate: 384 kb/s\\n    Stream #0:0: Audio: pcm_s16le ([1][0][0][0] / 0x0001), 24000 Hz, mono, s16, 384 kb/s\\nUnknown encoder 'libmp3lame'\\n\""
     ]
    }
   ],
   "source": [
    "from google_tts import Speech as neo_Speech\n",
    "from google_speech import Speech as ori_Speech\n",
    "from io import BytesIO\n",
    "from pydub import AudioSegment\n",
    "from pydub.playback import play\n",
    "\n",
    "\n",
    "text = \"这一句话This sentence中既有中文又有English，\" \n",
    "# This sentence has both Chinese and English.\n",
    "\n",
    "lang = \"zh-cn\"\n",
    "speech = neo_Speech(text,lang)\n",
    "speech.save(\"test.mp3\")\n"
   ]
  },
  {
   "cell_type": "markdown",
   "metadata": {},
   "source": [
    "configuration: \n",
    "--prefix=/usr/local/Cellar/ffmpeg/4.1.1-with-options \n",
    "--enable-shared \n",
    "--enable-hardcoded-tables \n",
    "--cc=clang \n",
    "--host-cflags= --host-ldflags= \n",
    "--enable-gpl \n",
    "--enable-libaom \n",
    "--enable-libmp3lame --enable-libopus --enable-libsnappy --enable-libtheora --enable-libvorbis --enable-libvpx --enable-libx264 --enable-libx265 --enable-libfontconfig --enable-libfreetype --enable-frei0r --enable-libass --disable-libjack --disable-indev=jack --enable-opencl --enable-videotoolbox --disable-htmlpages --enable-libfdk-aac --enable-libopenh264 --enable-librsvg --enable-libsrt --enable-libvidstab --enable-libxvid --enable-nonfree"
   ]
  },
  {
   "cell_type": "code",
   "execution_count": null,
   "metadata": {},
   "outputs": [],
   "source": []
  }
 ],
 "metadata": {
  "kernelspec": {
   "display_name": "Python 3",
   "language": "python",
   "name": "python3"
  },
  "language_info": {
   "codemirror_mode": {
    "name": "ipython",
    "version": 3
   },
   "file_extension": ".py",
   "mimetype": "text/x-python",
   "name": "python",
   "nbconvert_exporter": "python",
   "pygments_lexer": "ipython3",
   "version": "3.5.6"
  }
 },
 "nbformat": 4,
 "nbformat_minor": 2
}
