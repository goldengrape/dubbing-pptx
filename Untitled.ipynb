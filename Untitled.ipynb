{
 "cells": [
  {
   "cell_type": "code",
   "execution_count": 7,
   "metadata": {},
   "outputs": [],
   "source": [
    "from google_tts import Speech as neo_Speech\n",
    "from google_speech import Speech as ori_Speech\n",
    "from io import BytesIO\n",
    "from pydub import AudioSegment\n",
    "from pydub.playback import play\n",
    "\n",
    "\n",
    "text = '''\n",
    "移除sox支持, 使之成为纯粹的python工具. 减少其他相关程序的安装. 受够了开源软件的一个又一个依赖. (已经完成)\n",
    "'''\n",
    "# This sentence has both Chinese and English.\n",
    "\n",
    "lang = \"zh-cn\"\n",
    "speech = neo_Speech(text,lang)\n",
    "# speech.play()\n",
    "# speech.save(\"test.mp3\")\n",
    "f=BytesIO()\n",
    "speech.savef(f)"
   ]
  },
  {
   "cell_type": "markdown",
   "metadata": {},
   "source": [
    "configuration: \n",
    "--prefix=/usr/local/Cellar/ffmpeg/4.1.1-with-options \n",
    "--enable-shared \n",
    "--enable-hardcoded-tables \n",
    "--cc=clang \n",
    "--host-cflags= --host-ldflags= \n",
    "--enable-gpl \n",
    "--enable-libaom \n",
    "--enable-libmp3lame --enable-libopus --enable-libsnappy --enable-libtheora --enable-libvorbis --enable-libvpx --enable-libx264 --enable-libx265 --enable-libfontconfig --enable-libfreetype --enable-frei0r --enable-libass --disable-libjack --disable-indev=jack --enable-opencl --enable-videotoolbox --disable-htmlpages --enable-libfdk-aac --enable-libopenh264 --enable-librsvg --enable-libsrt --enable-libvidstab --enable-libxvid --enable-nonfree"
   ]
  },
  {
   "cell_type": "code",
   "execution_count": 13,
   "metadata": {},
   "outputs": [],
   "source": [
    "from pptx import Presentation\n",
    "from pptx.util import Inches\n",
    "\n",
    "ppt_filename=\"sample/test.pptx\"\n",
    "output_filename=\"sample/test_output.pptx\"\n",
    "prs = Presentation(ppt_filename)\n",
    "left = top = Inches(0.0)\n",
    "width = height = Inches(1.0)\n",
    "for index, slide in enumerate(prs.slides): \n",
    "    shapes = slide.shapes\n",
    "    movie = shapes.add_movie(f,  # 貌似不可以用\n",
    "                             left , top , width , height, \n",
    "                             poster_frame_image=None, \n",
    "                             mime_type='video/unknown')\n",
    "prs.save(output_filename)\n",
    "\n"
   ]
  },
  {
   "cell_type": "code",
   "execution_count": null,
   "metadata": {},
   "outputs": [],
   "source": []
  }
 ],
 "metadata": {
  "kernelspec": {
   "display_name": "Python 3",
   "language": "python",
   "name": "python3"
  },
  "language_info": {
   "codemirror_mode": {
    "name": "ipython",
    "version": 3
   },
   "file_extension": ".py",
   "mimetype": "text/x-python",
   "name": "python",
   "nbconvert_exporter": "python",
   "pygments_lexer": "ipython3",
   "version": "3.5.6"
  }
 },
 "nbformat": 4,
 "nbformat_minor": 2
}
