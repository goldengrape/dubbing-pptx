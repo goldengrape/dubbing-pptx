{
 "cells": [
  {
   "cell_type": "markdown",
   "metadata": {},
   "source": [
    "# 为PPT配音\n"
   ]
  },
  {
   "cell_type": "markdown",
   "metadata": {},
   "source": [
    "## 初始化"
   ]
  },
  {
   "cell_type": "code",
   "execution_count": 1,
   "metadata": {},
   "outputs": [
    {
     "ename": "ModuleNotFoundError",
     "evalue": "No module named 'appdirs'",
     "output_type": "error",
     "traceback": [
      "\u001b[0;31m---------------------------------------------------------------------------\u001b[0m",
      "\u001b[0;31mModuleNotFoundError\u001b[0m                       Traceback (most recent call last)",
      "\u001b[0;32m<ipython-input-1-05d70aed8063>\u001b[0m in \u001b[0;36m<module>\u001b[0;34m\u001b[0m\n\u001b[1;32m      9\u001b[0m \u001b[0;32mfrom\u001b[0m \u001b[0mpptx\u001b[0m\u001b[0;34m.\u001b[0m\u001b[0mutil\u001b[0m \u001b[0;32mimport\u001b[0m \u001b[0mInches\u001b[0m\u001b[0;34m\u001b[0m\u001b[0;34m\u001b[0m\u001b[0m\n\u001b[1;32m     10\u001b[0m \u001b[0;31m# from xunfei_tts import init_xf_tts, xf_save_tts\u001b[0m\u001b[0;34m\u001b[0m\u001b[0;34m\u001b[0m\u001b[0;34m\u001b[0m\u001b[0m\n\u001b[0;32m---> 11\u001b[0;31m \u001b[0;32mfrom\u001b[0m \u001b[0mgoogle_tts\u001b[0m \u001b[0;32mimport\u001b[0m \u001b[0mSpeech\u001b[0m \u001b[0;32mas\u001b[0m \u001b[0mgSpeech\u001b[0m\u001b[0;34m\u001b[0m\u001b[0;34m\u001b[0m\u001b[0m\n\u001b[0m\u001b[1;32m     12\u001b[0m \u001b[0;32mfrom\u001b[0m \u001b[0mxunfei_tts\u001b[0m \u001b[0;32mimport\u001b[0m \u001b[0mSpeech\u001b[0m \u001b[0;32mas\u001b[0m \u001b[0mxf_Speech\u001b[0m\u001b[0;34m\u001b[0m\u001b[0;34m\u001b[0m\u001b[0m\n\u001b[1;32m     13\u001b[0m \u001b[0;32mfrom\u001b[0m \u001b[0mpydub\u001b[0m \u001b[0;32mimport\u001b[0m \u001b[0mAudioSegment\u001b[0m\u001b[0;34m\u001b[0m\u001b[0;34m\u001b[0m\u001b[0m\n",
      "\u001b[0;32m/Volumes/macTF/github/dubbing-pptx/google_tts.py\u001b[0m in \u001b[0;36m<module>\u001b[0;34m\u001b[0m\n\u001b[1;32m     38\u001b[0m \u001b[0;32mimport\u001b[0m \u001b[0mjson\u001b[0m\u001b[0;34m\u001b[0m\u001b[0;34m\u001b[0m\u001b[0m\n\u001b[1;32m     39\u001b[0m \u001b[0;34m\u001b[0m\u001b[0m\n\u001b[0;32m---> 40\u001b[0;31m \u001b[0;32mimport\u001b[0m \u001b[0mappdirs\u001b[0m\u001b[0;34m\u001b[0m\u001b[0;34m\u001b[0m\u001b[0m\n\u001b[0m\u001b[1;32m     41\u001b[0m \u001b[0;32mimport\u001b[0m \u001b[0mrequests\u001b[0m\u001b[0;34m\u001b[0m\u001b[0;34m\u001b[0m\u001b[0m\n\u001b[1;32m     42\u001b[0m \u001b[0;32mimport\u001b[0m \u001b[0mweb_cache\u001b[0m\u001b[0;34m\u001b[0m\u001b[0;34m\u001b[0m\u001b[0m\n",
      "\u001b[0;31mModuleNotFoundError\u001b[0m: No module named 'appdirs'"
     ]
    }
   ],
   "source": [
    "import sys, os , subprocess, time, platform, json\n",
    "if platform.system()==\"Darwin\":\n",
    "    try:\n",
    "        from  AppKit import NSSpeechSynthesizer\n",
    "        import Foundation\n",
    "    except:\n",
    "        pass\n",
    "from pptx import Presentation\n",
    "from pptx.util import Inches\n",
    "# from xunfei_tts import init_xf_tts, xf_save_tts\n",
    "from google_tts import Speech as gSpeech\n",
    "from xunfei_tts import Speech as xf_Speech\n",
    "from pydub import AudioSegment"
   ]
  },
  {
   "cell_type": "code",
   "execution_count": 2,
   "metadata": {},
   "outputs": [],
   "source": [
    "def read_pptx(ppt_filename):\n",
    "    prs = Presentation(ppt_filename)\n",
    "    return prs\n",
    "\n",
    "def init_tts(tts_engine):\n",
    "    if tts_engine==\"nsss\":\n",
    "        nssp = NSSpeechSynthesizer\n",
    "        ve = nssp.alloc().init()\n",
    "    elif tts_engine==\"espeak\":\n",
    "        ve = 0\n",
    "    elif tts_engine==\"sapi5\":\n",
    "        ve = 0\n",
    "    elif tts_engine==\"xunfei\":\n",
    "#         ve = init_xf_tts()\n",
    "        with open('API_setup.txt') as json_file:  \n",
    "            api = json.load(json_file)\n",
    "            ve = xf_Speech(api, voice_name=\"x_xiaofeng\")\n",
    "    elif tts_engine==\"google\":\n",
    "        ve = 0\n",
    "    else:\n",
    "        ve = 0\n",
    "    return ve"
   ]
  },
  {
   "cell_type": "markdown",
   "metadata": {},
   "source": [
    "## 读取ppt中每页的注释"
   ]
  },
  {
   "cell_type": "code",
   "execution_count": 3,
   "metadata": {},
   "outputs": [],
   "source": [
    "def get_notes_text(slide):\n",
    "    notes_slide = slide.notes_slide\n",
    "    note = notes_slide.notes_text_frame.text\n",
    "    return note"
   ]
  },
  {
   "cell_type": "markdown",
   "metadata": {},
   "source": [
    "## 将每页注释用tts转换成音频文件"
   ]
  },
  {
   "cell_type": "code",
   "execution_count": 4,
   "metadata": {},
   "outputs": [],
   "source": [
    "def save_tts(ve, TEXT, filename, tts_engine):\n",
    "    if tts_engine==\"nsss\":\n",
    "        filename=filename+\".aiff\"\n",
    "        url = Foundation.NSURL.fileURLWithPath_(filename)\n",
    "        s=ve.startSpeakingString_toURL_(TEXT,url)    \n",
    "        if not(s):\n",
    "            print(\"TTS failed\") \n",
    "    elif tts_engine==\"espeak\":\n",
    "        # 尚未测试\n",
    "        filename=filename+\".wav\"\n",
    "        subprocess.call([\"espeak\",TEXT,\"-w\", filename])\n",
    "    elif tts_engine==\"sapi5\":\n",
    "        # 看起来很复杂的样子, 参考: https://github.com/nateshmbhat/pyttsx3/issues/7\n",
    "        pass\n",
    "    elif tts_engine==\"xunfei\":\n",
    "        filename=filename+\".wav\"\n",
    "#         xf_save_tts(ve, TEXT, filename)\n",
    "        ve.save(TEXT,filename)\n",
    "    elif tts_engine==\"google\":\n",
    "        filename=filename+\".mp3\"\n",
    "        ve = gSpeech(TEXT, \"zh-cn\",\"en\")\n",
    "        ve.save(filename)\n",
    "    return filename"
   ]
  },
  {
   "cell_type": "code",
   "execution_count": 5,
   "metadata": {},
   "outputs": [],
   "source": [
    "def save_notes_voice(ve, text, page_number, tts_engine):\n",
    "    voice_filename= \"temp_tts_{:3d}\".format(page_number)\n",
    "    voice_filename= save_tts(ve, text,voice_filename, tts_engine )\n",
    "    return voice_filename"
   ]
  },
  {
   "cell_type": "markdown",
   "metadata": {},
   "source": [
    "从tts引擎传回的音频文件可能存在编码问题。于是pydub.AudioSegment再重新灌注一边好了。\n"
   ]
  },
  {
   "cell_type": "code",
   "execution_count": null,
   "metadata": {},
   "outputs": [],
   "source": [
    "def reclean_voice(voice_filename):\n",
    "    _, file_extension = os.path.splitext(voice_filename)\n",
    "    file_extension=file_extension.lstrip(\".\")\n",
    "    (AudioSegment.from_file(voice_filename, \n",
    "                           format=file_extension)\n",
    "                .export(voice_filename, \n",
    "                        format=file_extension,\n",
    "                        bitrate=\"32k\"))\n",
    "    new_voice_filename=voice_filename\n",
    "\n",
    "# # ffmpeg -i input.wav -vn -ar 44100 -ac 2 -b:a 192k output.mp3\n",
    "#     file_name, file_extension = os.path.splitext(voice_filename)\n",
    "#     new_voice_filename=file_name+\"_new\"+'.aif'\n",
    "#     subprocess.call(['ffmpeg',\n",
    "#                      '-i', voice_filename,\n",
    "# #                      '-vn','-ar','44100','-ac','1','-b:a','16k',\n",
    "# #                      '-acodec', 'libmp3lame',\n",
    "#                      new_voice_filename\n",
    "#                     ])\n",
    "    return new_voice_filename\n",
    "    "
   ]
  },
  {
   "cell_type": "markdown",
   "metadata": {},
   "source": [
    "## 将每个音频文件插入到ppt页面中"
   ]
  },
  {
   "cell_type": "code",
   "execution_count": 6,
   "metadata": {},
   "outputs": [],
   "source": [
    "def insert_voice(voice_filename, slide):\n",
    "    left = top = Inches(0.0)\n",
    "    width = height = Inches(1.0)\n",
    "\n",
    "    shapes = slide.shapes\n",
    "    movie = shapes.add_movie(voice_filename, \n",
    "                                 left , top , width , height, \n",
    "                                 poster_frame_image=None, \n",
    "                                 mime_type='video/unknown')\n"
   ]
  },
  {
   "cell_type": "markdown",
   "metadata": {},
   "source": [
    "## 清理掉临时文件"
   ]
  },
  {
   "cell_type": "code",
   "execution_count": 7,
   "metadata": {},
   "outputs": [],
   "source": [
    "def clean_temp(voice_filename):\n",
    "    os.remove(voice_filename)\n",
    "    pass\n",
    "    "
   ]
  },
  {
   "cell_type": "markdown",
   "metadata": {},
   "source": [
    "# 包装"
   ]
  },
  {
   "cell_type": "code",
   "execution_count": 8,
   "metadata": {},
   "outputs": [],
   "source": [
    "def main(ppt_filename, output_filename, tts_engine):\n",
    "    ve=init_tts(tts_engine)\n",
    "    prs=read_pptx(ppt_filename)\n",
    "    N_slides=len(prs.slides)\n",
    "    \n",
    "    with open(output_filename+\".txt\",\"w\") as f:\n",
    "        for index, slide in enumerate(prs.slides): \n",
    "            note=get_notes_text(slide)\n",
    "            voice_filename=save_notes_voice(ve, note, index, tts_engine)\n",
    "#             voice_filename=reclean_voice(voice_filename) # 清理一遍音频\n",
    "            insert_voice(voice_filename, slide)\n",
    "            print(\"Slide No. {} / {}\".format(index+1,N_slides))\n",
    "            clean_temp(voice_filename)\n",
    "            f.write(note)\n",
    "    prs.save(output_filename)\n",
    "    print(\"save to \",output_filename)"
   ]
  },
  {
   "cell_type": "code",
   "execution_count": 19,
   "metadata": {},
   "outputs": [],
   "source": [
    "def interpret_opt(opt):\n",
    "    # will rewrite with getopt\n",
    "        \n",
    "    tts_engine_dict={\"Darwin\":\"nsss\",\n",
    "                     \"Linux\": \"espeak\",\n",
    "                     \"Windows\":\"sapi5\",\n",
    "                     \"xunfei\": \"xunfei\",\n",
    "                     \"google\": \"google\"}\n",
    "    \n",
    "    if len(opt)==4:\n",
    "        ppt_filename=opt[1]\n",
    "        output_filename=opt[2]\n",
    "        tts_engine_flag = opt[3]\n",
    "        if opt[3]==\"--online\":\n",
    "            tts_engine_flag=\"google\"\n",
    "#         else:\n",
    "#             tts_engine_flag=platform.system()\n",
    "        \n",
    "    elif len(opt)==3 :\n",
    "        ppt_filename=opt[1]\n",
    "        output_filename=opt[2]\n",
    "        tts_engine_flag=platform.system()\n",
    "        if ppt_filename==\"-f\":\n",
    "            ppt_filename=\"sample/test.pptx\" # local test\n",
    "            ppt_path=os.path.dirname(ppt_filename)\n",
    "            output_filename=os.path.join(ppt_path, \"output.pptx\")\n",
    "\n",
    "\n",
    "\n",
    "\n",
    "    elif len(opt)==2 :\n",
    "        ppt_filename=opt[1]    \n",
    "        ppt_path=os.path.dirname(ppt_filename)\n",
    "        output_filename=os.path.join(ppt_path, \"output.pptx\")\n",
    "        tts_engine_flag=platform.system()\n",
    "\n",
    "\n",
    "    else:\n",
    "        raise UserWarning(\"参数输入错误\")\n",
    "    tts_engine=tts_engine_dict[tts_engine_flag]\n",
    "\n",
    "\n",
    "    print(\"Input file: \", ppt_filename)\n",
    "    print(\"Output file: \", output_filename)\n",
    "    print(\"TTS engine: \", tts_engine)\n",
    "    return (ppt_filename, output_filename, tts_engine )"
   ]
  },
  {
   "cell_type": "code",
   "execution_count": 20,
   "metadata": {},
   "outputs": [
    {
     "name": "stdout",
     "output_type": "stream",
     "text": [
      "Input file:  sample/test.pptx\n",
      "Output file:  sample/output.pptx\n",
      "TTS engine:  nsss\n",
      "Slide No. 1 / 2\n",
      "Slide No. 2 / 2\n",
      "save to  sample/output.pptx\n"
     ]
    }
   ],
   "source": [
    "if __name__==\"__main__\":\n",
    "    ppt_filename, output_filename, tts_engine=interpret_opt(sys.argv)\n",
    "    main(ppt_filename, output_filename, tts_engine)\n"
   ]
  },
  {
   "cell_type": "code",
   "execution_count": null,
   "metadata": {},
   "outputs": [],
   "source": []
  }
 ],
 "metadata": {
  "kernelspec": {
   "display_name": "Python 3",
   "language": "python",
   "name": "python3"
  },
  "language_info": {
   "codemirror_mode": {
    "name": "ipython",
    "version": 3
   },
   "file_extension": ".py",
   "mimetype": "text/x-python",
   "name": "python",
   "nbconvert_exporter": "python",
   "pygments_lexer": "ipython3",
   "version": "3.6.8"
  }
 },
 "nbformat": 4,
 "nbformat_minor": 2
}
