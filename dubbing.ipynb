{
 "cells": [
  {
   "cell_type": "markdown",
   "metadata": {},
   "source": [
    "# 使用mac自带的TTS引擎为PPT配音\n"
   ]
  },
  {
   "cell_type": "markdown",
   "metadata": {},
   "source": [
    "## 初始化"
   ]
  },
  {
   "cell_type": "code",
   "execution_count": 1,
   "metadata": {},
   "outputs": [],
   "source": [
    "import sys, os , subprocess, time, platform\n",
    "if platform.system()==\"Darwin\":\n",
    "    from  AppKit import NSSpeechSynthesizer\n",
    "    import Foundation\n",
    "from pptx import Presentation\n",
    "from pptx.util import Inches"
   ]
  },
  {
   "cell_type": "code",
   "execution_count": 2,
   "metadata": {},
   "outputs": [],
   "source": [
    "def read_pptx(ppt_filename):\n",
    "    prs = Presentation(ppt_filename)\n",
    "    return prs\n",
    "\n",
    "def init_tts(rate=200):\n",
    "    if platform.system()==\"Darwin\":\n",
    "        nssp = NSSpeechSynthesizer\n",
    "        ve = nssp.alloc().init()\n",
    "    #     ve.setRate_(rate) # 不在程序内设置, 而是在系统中设置速度或者其他语音参数似乎更好\n",
    "    else:\n",
    "        return 0\n",
    "    return ve"
   ]
  },
  {
   "cell_type": "markdown",
   "metadata": {},
   "source": [
    "## 读取ppt中每页的注释"
   ]
  },
  {
   "cell_type": "code",
   "execution_count": 3,
   "metadata": {},
   "outputs": [],
   "source": [
    "def get_notes_text(slide):\n",
    "    notes_slide = slide.notes_slide\n",
    "    note = notes_slide.notes_text_frame.text\n",
    "    return note"
   ]
  },
  {
   "cell_type": "markdown",
   "metadata": {},
   "source": [
    "## 将每页注释用tts转换成音频文件"
   ]
  },
  {
   "cell_type": "code",
   "execution_count": 4,
   "metadata": {},
   "outputs": [],
   "source": [
    "def save_tts(ve, TEXT, filename):\n",
    "    if platform.system()==\"Darwin\":\n",
    "        filename=filename+\".aiff\"\n",
    "        url = Foundation.NSURL.fileURLWithPath_(filename)\n",
    "        s=ve.startSpeakingString_toURL_(TEXT,url)    \n",
    "        if not(s):\n",
    "            print(\"TTS failed\") \n",
    "    if platform.system()==\"Linux\":\n",
    "        # 尚未测试\n",
    "        filename=filename+\".wav\"\n",
    "        subprocess.call([\"espeak\",TEXT,\"-w\", filename])\n",
    "    if platform.system()==\"Windows\":\n",
    "        # 看起来很复杂的样子, 参考: https://github.com/nateshmbhat/pyttsx3/issues/7\n",
    "        pass\n",
    "    \n",
    "    return filename"
   ]
  },
  {
   "cell_type": "code",
   "execution_count": 5,
   "metadata": {},
   "outputs": [],
   "source": [
    "def save_notes_voice(ve, text, page_number):\n",
    "    voice_filename= \"temp_tts_{:3d}\".format(page_number)\n",
    "    voice_filename= save_tts(ve, text,voice_filename )\n",
    "    return voice_filename"
   ]
  },
  {
   "cell_type": "markdown",
   "metadata": {},
   "source": [
    "## 将每个音频文件插入到ppt页面中"
   ]
  },
  {
   "cell_type": "code",
   "execution_count": 6,
   "metadata": {},
   "outputs": [],
   "source": [
    "def insert_voice(voice_filename, slide):\n",
    "    left = top = Inches(0.0)\n",
    "    width = height = Inches(1.0)\n",
    "\n",
    "    shapes = slide.shapes\n",
    "    movie = shapes.add_movie(voice_filename, \n",
    "                                 left , top , width , height, \n",
    "                                 poster_frame_image=None, \n",
    "                                 mime_type='video/unknown')\n"
   ]
  },
  {
   "cell_type": "markdown",
   "metadata": {},
   "source": [
    "## 清理掉临时文件"
   ]
  },
  {
   "cell_type": "code",
   "execution_count": 7,
   "metadata": {},
   "outputs": [],
   "source": [
    "def clean_temp(voice_filename):\n",
    "    os.remove(voice_filename)\n",
    "    "
   ]
  },
  {
   "cell_type": "markdown",
   "metadata": {},
   "source": [
    "# 包装"
   ]
  },
  {
   "cell_type": "code",
   "execution_count": 8,
   "metadata": {},
   "outputs": [],
   "source": [
    "def main(ppt_filename, output_filename):\n",
    "    ve=init_tts(rate=200)\n",
    "    prs=read_pptx(ppt_filename)\n",
    "    N_slides=len(prs.slides)\n",
    "    \n",
    "    for index, slide in enumerate(prs.slides): \n",
    "        note=get_notes_text(slide)\n",
    "        voice_filename=save_notes_voice(ve, note, index)\n",
    "\n",
    "        time.sleep(3)  # 需要等待使音频处理完成, 如果时间过短, 可能在后面几张幻灯中音频无法播放, 不知为何.\n",
    "        insert_voice(voice_filename, slide)\n",
    "        print(\"Slide No. {} / {}\".format(index+1,N_slides))\n",
    "        clean_temp(voice_filename)\n",
    "    prs.save(output_filename)\n",
    "    print(\"save to \",output_filename)"
   ]
  },
  {
   "cell_type": "code",
   "execution_count": 9,
   "metadata": {},
   "outputs": [
    {
     "name": "stdout",
     "output_type": "stream",
     "text": [
      "Darwin\n",
      "Slide No. 1 / 10\n",
      "Slide No. 2 / 10\n",
      "Slide No. 3 / 10\n",
      "Slide No. 4 / 10\n",
      "Slide No. 5 / 10\n",
      "Slide No. 6 / 10\n",
      "Slide No. 7 / 10\n",
      "Slide No. 8 / 10\n",
      "Slide No. 9 / 10\n",
      "Slide No. 10 / 10\n",
      "save to  sample/output.pptx\n"
     ]
    }
   ],
   "source": [
    "if __name__==\"__main__\":\n",
    "\n",
    "    if len(sys.argv)==3 :\n",
    "        ppt_filename=sys.argv[1]\n",
    "        output_filename=sys.argv[2]\n",
    "    elif len(sys.argv)==2 :\n",
    "        ppt_filename=sys.argv[1]\n",
    "        ppt_path=os.path.dirname(ppt_filename)\n",
    "        output_filename=os.path.join(ppt_path, \"output.pptx\")\n",
    "    else:\n",
    "        print(\"Error, I need input a filename\")\n",
    "    \n",
    "#     assert (platform.system())==\"Darwin\"\n",
    "    \n",
    "#     ppt_filename=\"sample/test.pptx\"\n",
    "#     ppt_path=os.path.dirname(ppt_filename)\n",
    "#     output_filename=os.path.join(ppt_path, \"output.pptx\")\n",
    "    \n",
    "    main(ppt_filename, output_filename)\n"
   ]
  }
 ],
 "metadata": {
  "kernelspec": {
   "display_name": "Python 3",
   "language": "python",
   "name": "python3"
  },
  "language_info": {
   "codemirror_mode": {
    "name": "ipython",
    "version": 3
   },
   "file_extension": ".py",
   "mimetype": "text/x-python",
   "name": "python",
   "nbconvert_exporter": "python",
   "pygments_lexer": "ipython3",
   "version": "3.5.6"
  }
 },
 "nbformat": 4,
 "nbformat_minor": 2
}
