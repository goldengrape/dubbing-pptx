{
 "cells": [
  {
   "cell_type": "markdown",
   "metadata": {},
   "source": [
    "# 为PPT配音\n"
   ]
  },
  {
   "cell_type": "markdown",
   "metadata": {},
   "source": [
    "## 初始化"
   ]
  },
  {
   "cell_type": "code",
   "execution_count": 1,
   "metadata": {},
   "outputs": [],
   "source": [
    "import sys, os , subprocess, time, platform\n",
    "if platform.system()==\"Darwin\":\n",
    "    from  AppKit import NSSpeechSynthesizer\n",
    "    import Foundation\n",
    "from pptx import Presentation\n",
    "from pptx.util import Inches\n",
    "from xunfei_tts import init_xf_tts, xf_save_tts"
   ]
  },
  {
   "cell_type": "code",
   "execution_count": 2,
   "metadata": {},
   "outputs": [],
   "source": [
    "def read_pptx(ppt_filename):\n",
    "    prs = Presentation(ppt_filename)\n",
    "    return prs\n",
    "\n",
    "def init_tts(tts_engine):\n",
    "    if tts_engine==\"nsss\":\n",
    "        nssp = NSSpeechSynthesizer\n",
    "        ve = nssp.alloc().init()\n",
    "    elif tts_engine==\"espeak\":\n",
    "        ve = 0\n",
    "    elif tts_engine==\"sapi5\":\n",
    "        ve = 0\n",
    "    elif tts_engine==\"xunfei\":\n",
    "        ve = init_xf_tts()\n",
    "    else:\n",
    "        ve = 0\n",
    "    return ve"
   ]
  },
  {
   "cell_type": "markdown",
   "metadata": {},
   "source": [
    "## 读取ppt中每页的注释"
   ]
  },
  {
   "cell_type": "code",
   "execution_count": 3,
   "metadata": {},
   "outputs": [],
   "source": [
    "def get_notes_text(slide):\n",
    "    notes_slide = slide.notes_slide\n",
    "    note = notes_slide.notes_text_frame.text\n",
    "    return note"
   ]
  },
  {
   "cell_type": "markdown",
   "metadata": {},
   "source": [
    "## 将每页注释用tts转换成音频文件"
   ]
  },
  {
   "cell_type": "code",
   "execution_count": 4,
   "metadata": {},
   "outputs": [],
   "source": [
    "def save_tts(ve, TEXT, filename, tts_engine):\n",
    "    if tts_engine==\"nsss\":\n",
    "        filename=filename+\".aiff\"\n",
    "        url = Foundation.NSURL.fileURLWithPath_(filename)\n",
    "        s=ve.startSpeakingString_toURL_(TEXT,url)    \n",
    "        if not(s):\n",
    "            print(\"TTS failed\") \n",
    "    elif tts_engine==\"espeak\":\n",
    "        # 尚未测试\n",
    "        filename=filename+\".wav\"\n",
    "        subprocess.call([\"espeak\",TEXT,\"-w\", filename])\n",
    "    elif tts_engine==\"sapi5\":\n",
    "        # 看起来很复杂的样子, 参考: https://github.com/nateshmbhat/pyttsx3/issues/7\n",
    "        pass\n",
    "    elif tts_engine==\"xunfei\":\n",
    "        filename=filename+\".mp3\"\n",
    "        xf_save_tts(ve, TEXT, filename)\n",
    "    return filename"
   ]
  },
  {
   "cell_type": "code",
   "execution_count": 5,
   "metadata": {},
   "outputs": [],
   "source": [
    "def save_notes_voice(ve, text, page_number, tts_engine):\n",
    "    voice_filename= \"temp_tts_{:3d}\".format(page_number)\n",
    "    voice_filename= save_tts(ve, text,voice_filename, tts_engine )\n",
    "    return voice_filename"
   ]
  },
  {
   "cell_type": "markdown",
   "metadata": {},
   "source": [
    "## 将每个音频文件插入到ppt页面中"
   ]
  },
  {
   "cell_type": "code",
   "execution_count": 6,
   "metadata": {},
   "outputs": [],
   "source": [
    "def insert_voice(voice_filename, slide):\n",
    "    left = top = Inches(0.0)\n",
    "    width = height = Inches(1.0)\n",
    "\n",
    "    shapes = slide.shapes\n",
    "    \n",
    "#     # 等待文件可读取后再继续\n",
    "#     t_start=time.time()\n",
    "#     while(not(os.access(voice_filename, os.W_OK))):\n",
    "#         print(\"waiting for file\")\n",
    "#         if time.time()-t_start>=10: break\n",
    "#     time.sleep(15)\n",
    "#   出现的问题是长句切分以后第一段可以被写入到ppt中, 并在ppt中播放, \n",
    "#   但如果追踪文件的话, 音频文件是完整可听到的. \n",
    "#   但是音频文件的时间显示是异常的, 当使用音频播放器时, 只有第一段的时间长度显示出来, 当播放到还剩0秒时, 可以继续播放\n",
    "    \n",
    "    movie = shapes.add_movie(voice_filename, \n",
    "                                 left , top , width , height, \n",
    "                                 poster_frame_image=None, \n",
    "                                 mime_type='video/unknown')\n"
   ]
  },
  {
   "cell_type": "markdown",
   "metadata": {},
   "source": [
    "## 清理掉临时文件"
   ]
  },
  {
   "cell_type": "code",
   "execution_count": 7,
   "metadata": {},
   "outputs": [],
   "source": [
    "def clean_temp(voice_filename):\n",
    "    os.remove(voice_filename)\n",
    "    "
   ]
  },
  {
   "cell_type": "markdown",
   "metadata": {},
   "source": [
    "# 包装"
   ]
  },
  {
   "cell_type": "code",
   "execution_count": 8,
   "metadata": {},
   "outputs": [],
   "source": [
    "def main(ppt_filename, output_filename, tts_engine):\n",
    "    ve=init_tts(tts_engine)\n",
    "    prs=read_pptx(ppt_filename)\n",
    "    N_slides=len(prs.slides)\n",
    "    \n",
    "    for index, slide in enumerate(prs.slides): \n",
    "        note=get_notes_text(slide)\n",
    "        voice_filename=save_notes_voice(ve, note, index, tts_engine)\n",
    "        insert_voice(voice_filename, slide)\n",
    "        print(\"Slide No. {} / {}\".format(index+1,N_slides))\n",
    "        clean_temp(voice_filename)\n",
    "    prs.save(output_filename)\n",
    "    print(\"save to \",output_filename)"
   ]
  },
  {
   "cell_type": "code",
   "execution_count": 9,
   "metadata": {},
   "outputs": [
    {
     "name": "stdout",
     "output_type": "stream",
     "text": [
      "Slide No. 1 / 2\n",
      "Slide No. 2 / 2\n",
      "save to  sample/output.pptx\n"
     ]
    }
   ],
   "source": [
    "if __name__==\"__main__\":\n",
    "    \n",
    "    if len(sys.argv)==4:\n",
    "        ppt_filename=sys.argv[1]\n",
    "        output_filename=sys.argv[2]\n",
    "        \n",
    "        if sys.argv[3]==\"--online\":\n",
    "            tts_engine_flag=\"Online\"\n",
    "        else:\n",
    "            tts_engine_flag=platform.system()\n",
    "        \n",
    "    elif len(sys.argv)==3 :\n",
    "        ppt_filename=sys.argv[1]\n",
    "        output_filename=sys.argv[2]\n",
    "    elif len(sys.argv)==2 :\n",
    "        ppt_filename=sys.argv[1]\n",
    "        ppt_path=os.path.dirname(ppt_filename)\n",
    "        output_filename=os.path.join(ppt_path, \"output.pptx\")\n",
    "        \n",
    "    else:\n",
    "        print(\"Error, I need input a filename\")\n",
    "    \n",
    "    # local test\n",
    "    ppt_filename=\"sample/test.pptx\"\n",
    "    ppt_path=os.path.dirname(ppt_filename)\n",
    "    output_filename=os.path.join(ppt_path, \"output.pptx\")\n",
    "    \n",
    "    tts_engine_dict={\"Darwin\":\"nsss\",\n",
    "                     \"Linux\": \"espeak\",\n",
    "                     \"Windows\":\"sapi5\",\n",
    "                     \"Online\": \"xunfei\",}\n",
    "\n",
    "    tts_engine=tts_engine_dict[tts_engine_flag]\n",
    "    main(ppt_filename, output_filename, tts_engine)\n"
   ]
  },
  {
   "cell_type": "code",
   "execution_count": null,
   "metadata": {},
   "outputs": [],
   "source": []
  }
 ],
 "metadata": {
  "kernelspec": {
   "display_name": "Python 3",
   "language": "python",
   "name": "python3"
  },
  "language_info": {
   "codemirror_mode": {
    "name": "ipython",
    "version": 3
   },
   "file_extension": ".py",
   "mimetype": "text/x-python",
   "name": "python",
   "nbconvert_exporter": "python",
   "pygments_lexer": "ipython3",
   "version": "3.5.6"
  }
 },
 "nbformat": 4,
 "nbformat_minor": 2
}
