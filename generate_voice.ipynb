{
 "cells": [
  {
   "cell_type": "markdown",
   "metadata": {},
   "source": [
    "测试讯飞语音"
   ]
  },
  {
   "cell_type": "markdown",
   "metadata": {},
   "source": [
    "导入基本库"
   ]
  },
  {
   "cell_type": "code",
   "execution_count": 1,
   "metadata": {},
   "outputs": [],
   "source": [
    "import base64\n",
    "import json\n",
    "import time\n",
    "import hashlib\n",
    "import urllib.request\n",
    "import urllib.parse\n",
    "import json\n"
   ]
  },
  {
   "cell_type": "markdown",
   "metadata": {},
   "source": [
    "设定输出音频的位置和输入文本文件的位置"
   ]
  },
  {
   "cell_type": "code",
   "execution_count": 2,
   "metadata": {},
   "outputs": [],
   "source": [
    "if __name__ == \"__main__\":\n",
    "    OUTPUT_FILE = \"data/output.mp3\"    # 输出音频的保存路径，请根据自己的情况替换\n",
    "    txt_file=\"data/test.txt\"\n",
    "    with open(txt_file, \"r\") as txt_file:  \n",
    "        TEXT = txt_file.read()"
   ]
  },
  {
   "cell_type": "markdown",
   "metadata": {},
   "source": [
    "按照讯飞的要求, 分别配置设置的字符串, http请求的head和body"
   ]
  },
  {
   "cell_type": "code",
   "execution_count": 3,
   "metadata": {},
   "outputs": [],
   "source": [
    "def construct_base64_str(Param):\n",
    "    # 配置参数编码为base64字符串，过程：字典→明文字符串→utf8编码→base64(bytes)→base64字符串\n",
    "    Param_str = json.dumps(Param)    #得到明文字符串\n",
    "    Param_utf8 = Param_str.encode('utf8')    #得到utf8编码(bytes类型)\n",
    "    Param_b64 = base64.b64encode(Param_utf8)    #得到base64编码(bytes类型)\n",
    "    Param_b64str = Param_b64.decode('utf8')    #得到base64字符串\n",
    "    return Param_b64str\n",
    "\n",
    "def construct_header(api, Param_b64str):\n",
    "    # 构造HTTP请求的头部\n",
    "    time_now = str(int(time.time()))\n",
    "    checksum = (api[\"key\"] + time_now + Param_b64str).encode('utf8')\n",
    "    checksum_md5 = hashlib.md5(checksum).hexdigest()\n",
    "    header = {\n",
    "        \"X-Appid\": api[\"id\"],\n",
    "        \"X-CurTime\": time_now,\n",
    "        \"X-Param\": Param_b64str,\n",
    "        \"X-CheckSum\": checksum_md5\n",
    "    }\n",
    "    return header\n",
    "\n",
    "def construct_urlencode_utf8(t):\n",
    "    # 构造HTTP请求Body\n",
    "    body = {\n",
    "        \"text\": t\n",
    "    }\n",
    "    body_urlencode = urllib.parse.urlencode(body)\n",
    "    body_utf8 = body_urlencode.encode('utf8')\n",
    "    return body_utf8"
   ]
  },
  {
   "cell_type": "markdown",
   "metadata": {},
   "source": [
    "将长的txt"
   ]
  },
  {
   "cell_type": "code",
   "execution_count": 4,
   "metadata": {},
   "outputs": [],
   "source": [
    "def xunfei_tts(TEXT, Param, api, max_length=300):\n",
    "    data=b''\n",
    "    split_TEXT_list=[TEXT[i:i+max_length] for i in range(0, len(TEXT), max_length)]\n",
    "    for t in split_TEXT_list:\n",
    "        # 发送HTTP POST请求\n",
    "        req = urllib.request.Request(\n",
    "            api[\"url\"], \n",
    "            data=construct_urlencode_utf8(t), \n",
    "            headers=construct_header(api, construct_base64_str(Param)))\n",
    "        response = urllib.request.urlopen(req)\n",
    "        data+=response.read()\n",
    "#         time.sleep(5)\n",
    "    return data\n",
    "\n",
    "def tts(TEXT):\n",
    "    # 读取API url, API key, APP ID\n",
    "    with open('API_setup.txt') as json_file:  \n",
    "        api = json.load(json_file)\n",
    "    # 构造输出音频配置参数\n",
    "    Param = {\n",
    "        \"auf\": \"audio/L16;rate=16000\",    #音频采样率\n",
    "        \"aue\": \"lame\",    #音频编码，raw(生成wav)或lame(生成mp3)\n",
    "        \"voice_name\": \"aisjiuxu\",\n",
    "        \"speed\": \"50\",    #语速[0,100]\n",
    "        \"volume\": \"77\",    #音量[0,100]\n",
    "        \"pitch\": \"30\",    #音高[0,100]\n",
    "        \"engine_type\": \"aisound\"    #引擎类型。aisound（普通效果），intp65（中文），intp65_en（英文）\n",
    "    }\n",
    "    return xunfei_tts(TEXT, Param,api,max_length=300)"
   ]
  },
  {
   "cell_type": "code",
   "execution_count": 5,
   "metadata": {},
   "outputs": [
    {
     "name": "stdout",
     "output_type": "stream",
     "text": [
      "输出文件: data/output.mp3\n"
     ]
    }
   ],
   "source": [
    "if __name__ == \"__main__\":\n",
    "    data=tts(TEXT)\n",
    "    out_file = open(OUTPUT_FILE, 'wb')\n",
    "    out_file.write(data)\n",
    "    out_file.close()\n",
    "    print('输出文件: ' + OUTPUT_FILE)"
   ]
  },
  {
   "cell_type": "code",
   "execution_count": null,
   "metadata": {},
   "outputs": [],
   "source": [
    "\n"
   ]
  },
  {
   "cell_type": "code",
   "execution_count": null,
   "metadata": {},
   "outputs": [],
   "source": []
  }
 ],
 "metadata": {
  "kernelspec": {
   "display_name": "Python 3",
   "language": "python",
   "name": "python3"
  },
  "language_info": {
   "codemirror_mode": {
    "name": "ipython",
    "version": 3
   },
   "file_extension": ".py",
   "mimetype": "text/x-python",
   "name": "python",
   "nbconvert_exporter": "python",
   "pygments_lexer": "ipython3",
   "version": "3.5.6"
  }
 },
 "nbformat": 4,
 "nbformat_minor": 2
}
